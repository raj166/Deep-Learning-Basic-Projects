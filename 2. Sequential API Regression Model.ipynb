{
  "nbformat": 4,
  "nbformat_minor": 0,
  "metadata": {
    "kernelspec": {
      "display_name": "Python 3",
      "language": "python",
      "name": "python3"
    },
    "language_info": {
      "codemirror_mode": {
        "name": "ipython",
        "version": 3
      },
      "file_extension": ".py",
      "mimetype": "text/x-python",
      "name": "python",
      "nbconvert_exporter": "python",
      "pygments_lexer": "ipython3",
      "version": "3.7.4"
    },
    "colab": {
      "name": "Sequential API regression model.ipynb",
      "provenance": [],
      "collapsed_sections": [
        "5Pu_cUDJuJ2V",
        "emynoSVRuJ2Y",
        "UjahlCmKuJ2a",
        "CU5TY-owuJ2d",
        "zM38GZn_uJ2f"
      ],
      "include_colab_link": true
    }
  },
  "cells": [
    {
      "cell_type": "markdown",
      "metadata": {
        "id": "view-in-github",
        "colab_type": "text"
      },
      "source": [
        "<a href=\"https://colab.research.google.com/github/raj166/Deep-Learning-Basic-Projects/blob/main/Sequential_API_regression_model.ipynb\" target=\"_parent\"><img src=\"https://colab.research.google.com/assets/colab-badge.svg\" alt=\"Open In Colab\"/></a>"
      ]
    },
    {
      "cell_type": "code",
      "metadata": {
        "id": "S7U4uEnvuJ2I"
      },
      "source": [
        "import numpy as np\n",
        "import pandas as pd\n",
        "%matplotlib inline\n",
        "import matplotlib as mpl\n",
        "import matplotlib.pyplot as plt"
      ],
      "execution_count": 1,
      "outputs": []
    },
    {
      "cell_type": "code",
      "metadata": {
        "id": "W4yJgaznuJ2L"
      },
      "source": [
        "import tensorflow as tf\n",
        "from tensorflow import keras"
      ],
      "execution_count": 2,
      "outputs": []
    },
    {
      "cell_type": "code",
      "metadata": {
        "colab": {
          "base_uri": "https://localhost:8080/"
        },
        "id": "7kTidwxCuJ2M",
        "outputId": "4a35efca-e57a-4a4d-9991-25952375bfe2"
      },
      "source": [
        "from sklearn.datasets import fetch_california_housing\n",
        "housing = fetch_california_housing()"
      ],
      "execution_count": 3,
      "outputs": [
        {
          "output_type": "stream",
          "text": [
            "Downloading Cal. housing from https://ndownloader.figshare.com/files/5976036 to /root/scikit_learn_data\n"
          ],
          "name": "stderr"
        }
      ]
    },
    {
      "cell_type": "markdown",
      "metadata": {
        "id": "2mn2ls9huJ2M"
      },
      "source": [
        "### Data Set Characteristics:\n",
        "\n",
        "##### Number of Instances:\n",
        " \t\n",
        "20640\n",
        "\n",
        "##### Number of Attributes:\n",
        " \t\n",
        "8 numeric, predictive attributes and the target\n",
        "\n",
        "##### Attribute Information:\n",
        " \t\n",
        "* MedInc median income in block\n",
        "* HouseAge median house age in block\n",
        "* AveRooms average number of rooms\n",
        "* AveBedrms average number of bedrooms\n",
        "* Population block population\n",
        "* AveOccup average house occupancy\n",
        "* Latitude house block latitude\n",
        "* Longitude house block longitude\n",
        "\n",
        "#### Target\n",
        "\n",
        "The target variable is the median house value in units of 100,000 for California districts.\n",
        "\n",
        "#### Documentation \n",
        "https://scikit-learn.org/stable/modules/generated/sklearn.datasets.fetch_california_housing.html#examples-using-sklearn-datasets-fetch-california-housing"
      ]
    },
    {
      "cell_type": "code",
      "metadata": {
        "colab": {
          "base_uri": "https://localhost:8080/"
        },
        "id": "imX76CqMuJ2M",
        "outputId": "463c5484-1b42-4c16-ad1e-20f51aa5544d"
      },
      "source": [
        "print(housing.feature_names)"
      ],
      "execution_count": 4,
      "outputs": [
        {
          "output_type": "stream",
          "text": [
            "['MedInc', 'HouseAge', 'AveRooms', 'AveBedrms', 'Population', 'AveOccup', 'Latitude', 'Longitude']\n"
          ],
          "name": "stdout"
        }
      ]
    },
    {
      "cell_type": "code",
      "metadata": {
        "id": "yrsztlSyuJ2N"
      },
      "source": [
        "from sklearn.model_selection import train_test_split\n",
        "X_train_full, X_test, y_train_full, y_test = train_test_split(housing.data, housing.target, random_state=42)\n",
        "X_train, X_valid, y_train, y_valid = train_test_split(X_train_full, y_train_full, random_state=42)"
      ],
      "execution_count": 17,
      "outputs": []
    },
    {
      "cell_type": "code",
      "metadata": {
        "id": "mHtvnNVDuJ2O"
      },
      "source": [
        "from sklearn.preprocessing import StandardScaler\n",
        "scaler = StandardScaler()\n",
        "X_train = scaler.fit_transform(X_train)\n",
        "X_valid = scaler.transform(X_valid)\n",
        "X_test = scaler.transform(X_test)"
      ],
      "execution_count": 18,
      "outputs": []
    },
    {
      "cell_type": "code",
      "metadata": {
        "id": "PxDoQ-s7uJ2O"
      },
      "source": [
        "np.random.seed(42)\n",
        "tf.random.set_seed(42)"
      ],
      "execution_count": 19,
      "outputs": []
    },
    {
      "cell_type": "code",
      "metadata": {
        "colab": {
          "base_uri": "https://localhost:8080/"
        },
        "id": "7wA-XmtvuJ2P",
        "outputId": "33997a61-c273-4334-9783-143caf6847de"
      },
      "source": [
        "X_train.shape"
      ],
      "execution_count": 20,
      "outputs": [
        {
          "output_type": "execute_result",
          "data": {
            "text/plain": [
              "(11610, 8)"
            ]
          },
          "metadata": {
            "tags": []
          },
          "execution_count": 20
        }
      ]
    },
    {
      "cell_type": "markdown",
      "metadata": {
        "id": "0-vdpxQ2uJ2P"
      },
      "source": [
        "![](Seq_api.png \"Title\")"
      ]
    },
    {
      "cell_type": "code",
      "metadata": {
        "id": "AYPXWSeyuJ2P"
      },
      "source": [
        "model = keras.models.Sequential([\n",
        "    keras.layers.Dense(30, activation=\"relu\", input_shape=X_train.shape[1:]),\n",
        "    keras.layers.Dense(30, activation=\"relu\"),\n",
        "    keras.layers.Dense(1)\n",
        "])\n",
        "# keras.layers.Dense(30, activation=\"relu\", input_shape=[8])"
      ],
      "execution_count": 29,
      "outputs": []
    },
    {
      "cell_type": "code",
      "metadata": {
        "colab": {
          "base_uri": "https://localhost:8080/"
        },
        "id": "yaiiH3mWuJ2Q",
        "outputId": "39a6b61d-0f2c-4a79-e26e-78ccac44d7ee"
      },
      "source": [
        "model.summary()"
      ],
      "execution_count": 31,
      "outputs": [
        {
          "output_type": "stream",
          "text": [
            "Model: \"sequential_1\"\n",
            "_________________________________________________________________\n",
            "Layer (type)                 Output Shape              Param #   \n",
            "=================================================================\n",
            "dense_3 (Dense)              (None, 30)                270       \n",
            "_________________________________________________________________\n",
            "dense_4 (Dense)              (None, 30)                930       \n",
            "_________________________________________________________________\n",
            "dense_5 (Dense)              (None, 1)                 31        \n",
            "=================================================================\n",
            "Total params: 1,231\n",
            "Trainable params: 1,231\n",
            "Non-trainable params: 0\n",
            "_________________________________________________________________\n"
          ],
          "name": "stdout"
        }
      ]
    },
    {
      "cell_type": "code",
      "metadata": {
        "colab": {
          "base_uri": "https://localhost:8080/"
        },
        "id": "51YAJDE1uJ2Q",
        "outputId": "abec80b1-f8ca-4c8b-f02f-cff0eb24316f"
      },
      "source": [
        "model.compile(loss=\"mean_squared_error\", optimizer=keras.optimizers.SGD(lr=1e-3), metrics=['mae'])"
      ],
      "execution_count": 51,
      "outputs": [
        {
          "output_type": "stream",
          "text": [
            "/usr/local/lib/python3.7/dist-packages/tensorflow/python/keras/optimizer_v2/optimizer_v2.py:375: UserWarning: The `lr` argument is deprecated, use `learning_rate` instead.\n",
            "  \"The `lr` argument is deprecated, use `learning_rate` instead.\")\n"
          ],
          "name": "stderr"
        }
      ]
    },
    {
      "cell_type": "code",
      "metadata": {
        "colab": {
          "base_uri": "https://localhost:8080/"
        },
        "id": "lrPobNsHuJ2Q",
        "outputId": "c6bb7dbc-f064-4938-f1d4-faa078006dfc"
      },
      "source": [
        "model_history = model.fit(X_train, y_train, epochs=20, validation_data=(X_valid, y_valid))"
      ],
      "execution_count": 52,
      "outputs": [
        {
          "output_type": "stream",
          "text": [
            "Epoch 1/20\n",
            "363/363 [==============================] - 1s 2ms/step - loss: 0.3532 - mae: 0.4217 - val_loss: 0.3416 - val_mae: 0.4151\n",
            "Epoch 2/20\n",
            "363/363 [==============================] - 0s 1ms/step - loss: 0.3528 - mae: 0.4210 - val_loss: 0.3584 - val_mae: 0.4202\n",
            "Epoch 3/20\n",
            "363/363 [==============================] - 0s 1ms/step - loss: 0.3522 - mae: 0.4212 - val_loss: 0.3463 - val_mae: 0.4154\n",
            "Epoch 4/20\n",
            "363/363 [==============================] - 0s 1ms/step - loss: 0.3517 - mae: 0.4205 - val_loss: 0.3395 - val_mae: 0.4164\n",
            "Epoch 5/20\n",
            "363/363 [==============================] - 1s 1ms/step - loss: 0.3513 - mae: 0.4200 - val_loss: 0.3407 - val_mae: 0.4160\n",
            "Epoch 6/20\n",
            "363/363 [==============================] - 1s 1ms/step - loss: 0.3506 - mae: 0.4200 - val_loss: 0.3400 - val_mae: 0.4134\n",
            "Epoch 7/20\n",
            "363/363 [==============================] - 1s 1ms/step - loss: 0.3503 - mae: 0.4192 - val_loss: 0.3369 - val_mae: 0.4139\n",
            "Epoch 8/20\n",
            "363/363 [==============================] - 1s 1ms/step - loss: 0.3498 - mae: 0.4192 - val_loss: 0.3357 - val_mae: 0.4126\n",
            "Epoch 9/20\n",
            "363/363 [==============================] - 0s 1ms/step - loss: 0.3492 - mae: 0.4189 - val_loss: 0.3367 - val_mae: 0.4115\n",
            "Epoch 10/20\n",
            "363/363 [==============================] - 1s 1ms/step - loss: 0.3487 - mae: 0.4184 - val_loss: 0.3382 - val_mae: 0.4112\n",
            "Epoch 11/20\n",
            "363/363 [==============================] - 0s 1ms/step - loss: 0.3485 - mae: 0.4180 - val_loss: 0.3315 - val_mae: 0.4108\n",
            "Epoch 12/20\n",
            "363/363 [==============================] - 0s 1ms/step - loss: 0.3480 - mae: 0.4176 - val_loss: 0.3406 - val_mae: 0.4124\n",
            "Epoch 13/20\n",
            "363/363 [==============================] - 1s 1ms/step - loss: 0.3475 - mae: 0.4172 - val_loss: 0.3318 - val_mae: 0.4129\n",
            "Epoch 14/20\n",
            "363/363 [==============================] - 1s 1ms/step - loss: 0.3469 - mae: 0.4167 - val_loss: 0.3309 - val_mae: 0.4117\n",
            "Epoch 15/20\n",
            "363/363 [==============================] - 1s 2ms/step - loss: 0.3467 - mae: 0.4168 - val_loss: 0.3344 - val_mae: 0.4126\n",
            "Epoch 16/20\n",
            "363/363 [==============================] - 1s 2ms/step - loss: 0.3460 - mae: 0.4167 - val_loss: 0.3297 - val_mae: 0.4098\n",
            "Epoch 17/20\n",
            "363/363 [==============================] - 0s 1ms/step - loss: 0.3458 - mae: 0.4163 - val_loss: 0.3415 - val_mae: 0.4116\n",
            "Epoch 18/20\n",
            "363/363 [==============================] - 0s 1ms/step - loss: 0.3457 - mae: 0.4160 - val_loss: 0.3291 - val_mae: 0.4081\n",
            "Epoch 19/20\n",
            "363/363 [==============================] - 0s 1ms/step - loss: 0.3449 - mae: 0.4153 - val_loss: 0.3293 - val_mae: 0.4086\n",
            "Epoch 20/20\n",
            "363/363 [==============================] - 0s 1ms/step - loss: 0.3446 - mae: 0.4150 - val_loss: 0.3428 - val_mae: 0.4122\n"
          ],
          "name": "stdout"
        }
      ]
    },
    {
      "cell_type": "code",
      "metadata": {
        "colab": {
          "base_uri": "https://localhost:8080/"
        },
        "id": "AhWETya7uJ2Q",
        "outputId": "bc6128f3-8cd4-49ff-ada6-9500d451ae15"
      },
      "source": [
        "mae_test = model.evaluate(X_test, y_test)\n"
      ],
      "execution_count": 53,
      "outputs": [
        {
          "output_type": "stream",
          "text": [
            "162/162 [==============================] - 0s 1ms/step - loss: 0.3460 - mae: 0.4174\n"
          ],
          "name": "stdout"
        }
      ]
    },
    {
      "cell_type": "code",
      "metadata": {
        "colab": {
          "base_uri": "https://localhost:8080/"
        },
        "id": "84lu2vPouJ2R",
        "outputId": "82a09e38-a20b-488d-d828-d4d335cda132"
      },
      "source": [
        "model_history.history"
      ],
      "execution_count": 54,
      "outputs": [
        {
          "output_type": "execute_result",
          "data": {
            "text/plain": [
              "{'loss': [0.35320353507995605,\n",
              "  0.3528378903865814,\n",
              "  0.35224804282188416,\n",
              "  0.35165947675704956,\n",
              "  0.35131633281707764,\n",
              "  0.3506300449371338,\n",
              "  0.3503039479255676,\n",
              "  0.34983932971954346,\n",
              "  0.3491794764995575,\n",
              "  0.348660945892334,\n",
              "  0.3484909236431122,\n",
              "  0.34796202182769775,\n",
              "  0.3474534749984741,\n",
              "  0.3469482362270355,\n",
              "  0.346650630235672,\n",
              "  0.3460444509983063,\n",
              "  0.3457660973072052,\n",
              "  0.34572526812553406,\n",
              "  0.34489789605140686,\n",
              "  0.3446248769760132],\n",
              " 'mae': [0.42167702317237854,\n",
              "  0.42104727029800415,\n",
              "  0.4211863875389099,\n",
              "  0.4205307364463806,\n",
              "  0.4200381934642792,\n",
              "  0.4200248420238495,\n",
              "  0.4192031919956207,\n",
              "  0.4191993772983551,\n",
              "  0.4188746213912964,\n",
              "  0.4183654189109802,\n",
              "  0.4179708659648895,\n",
              "  0.4175880551338196,\n",
              "  0.41716843843460083,\n",
              "  0.4167025685310364,\n",
              "  0.41676533222198486,\n",
              "  0.416658878326416,\n",
              "  0.41628745198249817,\n",
              "  0.41597235202789307,\n",
              "  0.41532382369041443,\n",
              "  0.41498860716819763],\n",
              " 'val_loss': [0.34163057804107666,\n",
              "  0.358394980430603,\n",
              "  0.34629198908805847,\n",
              "  0.3395250737667084,\n",
              "  0.34074246883392334,\n",
              "  0.33997076749801636,\n",
              "  0.33686041831970215,\n",
              "  0.33567941188812256,\n",
              "  0.33667388558387756,\n",
              "  0.33820274472236633,\n",
              "  0.3315342664718628,\n",
              "  0.3406126797199249,\n",
              "  0.33180391788482666,\n",
              "  0.3309450149536133,\n",
              "  0.3344046175479889,\n",
              "  0.3296767473220825,\n",
              "  0.34145066142082214,\n",
              "  0.3290863335132599,\n",
              "  0.32931748032569885,\n",
              "  0.34276729822158813],\n",
              " 'val_mae': [0.4150775372982025,\n",
              "  0.4202454388141632,\n",
              "  0.4154095947742462,\n",
              "  0.4163849949836731,\n",
              "  0.41601675748825073,\n",
              "  0.4134142994880676,\n",
              "  0.413922518491745,\n",
              "  0.41262537240982056,\n",
              "  0.4114685356616974,\n",
              "  0.41119423508644104,\n",
              "  0.41081345081329346,\n",
              "  0.41243958473205566,\n",
              "  0.4129278361797333,\n",
              "  0.411737322807312,\n",
              "  0.4126282036304474,\n",
              "  0.40976524353027344,\n",
              "  0.41163215041160583,\n",
              "  0.4080846905708313,\n",
              "  0.4086070954799652,\n",
              "  0.4121663272380829]}"
            ]
          },
          "metadata": {
            "tags": []
          },
          "execution_count": 54
        }
      ]
    },
    {
      "cell_type": "code",
      "metadata": {
        "colab": {
          "base_uri": "https://localhost:8080/",
          "height": 324
        },
        "id": "BmmpIT2NuJ2R",
        "outputId": "023beb31-9794-4f6d-cc58-b23b428cdc11"
      },
      "source": [
        "pd.DataFrame(model_history.history).plot(figsize=(8, 5))\n",
        "plt.grid(True)\n",
        "plt.gca().set_ylim(0, 1)\n",
        "\n",
        "plt.show()"
      ],
      "execution_count": 55,
      "outputs": [
        {
          "output_type": "display_data",
          "data": {
            "image/png": "[encoded data removed]",
            "text/plain": [
              "<Figure size 576x360 with 1 Axes>"
            ]
          },
          "metadata": {
            "tags": [],
            "needs_background": "light"
          }
        }
      ]
    },
    {
      "cell_type": "code",
      "metadata": {
        "id": "2rbbkAsQuJ2R"
      },
      "source": [
        "X_new = X_test[:3]"
      ],
      "execution_count": 56,
      "outputs": []
    },
    {
      "cell_type": "code",
      "metadata": {
        "colab": {
          "base_uri": "https://localhost:8080/"
        },
        "id": "7ARip_o1uJ2S",
        "outputId": "d6728b2d-5b40-4d14-a649-893406f5aff7"
      },
      "source": [
        "y_pred = model.predict(X_new)\n",
        "print (y_pred)\n",
        "print(y_test[:3])"
      ],
      "execution_count": 57,
      "outputs": [
        {
          "output_type": "stream",
          "text": [
            "[[0.6866576]\n",
            " [1.82902  ]\n",
            " [4.087396 ]]\n",
            "[0.477   0.458   5.00001]\n"
          ],
          "name": "stdout"
        }
      ]
    }
  ]
}
